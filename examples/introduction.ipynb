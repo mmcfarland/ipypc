{
 "cells": [
  {
   "cell_type": "markdown",
   "metadata": {},
   "source": [
    "# Introduction"
   ]
  },
  {
   "cell_type": "code",
   "execution_count": 41,
   "metadata": {},
   "outputs": [],
   "source": [
    "from ipypc import PlanetaryComputerExplorer"
   ]
  },
  {
   "cell_type": "code",
   "execution_count": 42,
   "metadata": {},
   "outputs": [
    {
     "data": {
      "application/vnd.jupyter.widget-view+json": {
       "model_id": "33372903c89f41239bc6f3b9fc74671e",
       "version_major": 2,
       "version_minor": 0
      },
      "text/plain": [
       "PlanetaryComputerExplorer(bbox=[4.08, 36.29, 20.58, 46.11], collection='io-lulc')"
      ]
     },
     "metadata": {},
     "output_type": "display_data"
    }
   ],
   "source": [
    "bbox = [4.08,36.29,20.58,46.11]\n",
    "collection = \"io-lulc\"\n",
    "\n",
    "pce = PlanetaryComputerExplorer(collection=collection, bbox=bbox)\n",
    "pce"
   ]
  },
  {
   "cell_type": "code",
   "execution_count": 43,
   "metadata": {},
   "outputs": [],
   "source": [
    "pce.collection = \"jrc-gsw\"\n",
    "pce.bbox = [-83.051147,25.100523,-79.584961,28.159190]"
   ]
  },
  {
   "cell_type": "code",
   "execution_count": 45,
   "metadata": {},
   "outputs": [
    {
     "data": {
      "application/vnd.jupyter.widget-view+json": {
       "model_id": "579abf54229b49d49dffee98658dc173",
       "version_major": 2,
       "version_minor": 0
      },
      "text/plain": [
       "PlanetaryComputerExplorer()"
      ]
     },
     "metadata": {},
     "output_type": "display_data"
    }
   ],
   "source": [
    "pce1 = PlanetaryComputerExplorer()\n",
    "pce1"
   ]
  }
 ],
 "metadata": {
  "kernelspec": {
   "display_name": "Python 3",
   "language": "python",
   "name": "python3"
  },
  "language_info": {
   "codemirror_mode": {
    "name": "ipython",
    "version": 3
   },
   "file_extension": ".py",
   "mimetype": "text/x-python",
   "name": "python",
   "nbconvert_exporter": "python",
   "pygments_lexer": "ipython3",
   "version": "3.9.6"
  }
 },
 "nbformat": 4,
 "nbformat_minor": 4
}
